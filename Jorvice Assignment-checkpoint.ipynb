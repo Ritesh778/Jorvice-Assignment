{
 "cells": [
  {
   "cell_type": "code",
   "execution_count": 4,
   "id": "6f109396",
   "metadata": {},
   "outputs": [
    {
     "name": "stdout",
     "output_type": "stream",
     "text": [
      "orvicej,jorvice\n",
      "The minimum number of rotations needed to obtain 'jorvice' from 'orvicej' is 1\n"
     ]
    }
   ],
   "source": [
    "s1,s2=map(str,input().split(','))\n",
    "if len(s1) != len(s2):\n",
    "    print(\"Error: s1 and s2 must be of same length\")\n",
    "else:\n",
    "    for i in range(len(s1)):\n",
    "        if s1[i:] + s1[:i] == s2:\n",
    "            min_rotations_needed = len(s1) - i\n",
    "            print(f\"The minimum number of rotations needed to obtain '{s2}' from '{s1}' is {min_rotations_needed}\")\n",
    "            break\n",
    "    else:\n",
    "        print(f\"'{s2}' cannot be obtained by rotating '{s1}'\")\n"
   ]
  },
  {
   "cell_type": "code",
   "execution_count": null,
   "id": "f1f49d0d",
   "metadata": {},
   "outputs": [],
   "source": []
  }
 ],
 "metadata": {
  "kernelspec": {
   "display_name": "Python 3 (ipykernel)",
   "language": "python",
   "name": "python3"
  },
  "language_info": {
   "codemirror_mode": {
    "name": "ipython",
    "version": 3
   },
   "file_extension": ".py",
   "mimetype": "text/x-python",
   "name": "python",
   "nbconvert_exporter": "python",
   "pygments_lexer": "ipython3",
   "version": "3.9.12"
  }
 },
 "nbformat": 4,
 "nbformat_minor": 5
}
